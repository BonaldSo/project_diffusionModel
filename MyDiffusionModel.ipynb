{
  "cells": [
    {
      "cell_type": "markdown",
      "metadata": {
        "id": "view-in-github",
        "colab_type": "text"
      },
      "source": [
        "<a href=\"https://colab.research.google.com/github/BonaldSo/project_diffusionModel/blob/main/MyDiffusionModel.ipynb\" target=\"_parent\"><img src=\"https://colab.research.google.com/assets/colab-badge.svg\" alt=\"Open In Colab\"/></a>"
      ]
    },
    {
      "cell_type": "code",
      "execution_count": null,
      "metadata": {
        "id": "1ISyKSLZygOQ",
        "colab": {
          "base_uri": "https://localhost:8080/"
        },
        "outputId": "adee2cdf-b78d-4a4a-a139-4277c98d5d64"
      },
      "outputs": [
        {
          "output_type": "stream",
          "name": "stdout",
          "text": [
            "Collecting diffusers\n",
            "  Downloading diffusers-0.27.2-py3-none-any.whl (2.0 MB)\n",
            "\u001b[2K     \u001b[90m━━━━━━━━━━━━━━━━━━━━━━━━━━━━━━━━━━━━━━━━\u001b[0m \u001b[32m2.0/2.0 MB\u001b[0m \u001b[31m15.1 MB/s\u001b[0m eta \u001b[36m0:00:00\u001b[0m\n",
            "\u001b[?25hRequirement already satisfied: importlib-metadata in /usr/local/lib/python3.10/dist-packages (from diffusers) (7.1.0)\n",
            "Requirement already satisfied: filelock in /usr/local/lib/python3.10/dist-packages (from diffusers) (3.13.3)\n",
            "Requirement already satisfied: huggingface-hub>=0.20.2 in /usr/local/lib/python3.10/dist-packages (from diffusers) (0.20.3)\n",
            "Requirement already satisfied: numpy in /usr/local/lib/python3.10/dist-packages (from diffusers) (1.25.2)\n",
            "Requirement already satisfied: regex!=2019.12.17 in /usr/local/lib/python3.10/dist-packages (from diffusers) (2023.12.25)\n",
            "Requirement already satisfied: requests in /usr/local/lib/python3.10/dist-packages (from diffusers) (2.25.1)\n",
            "Requirement already satisfied: safetensors>=0.3.1 in /usr/local/lib/python3.10/dist-packages (from diffusers) (0.4.2)\n",
            "Requirement already satisfied: Pillow in /usr/local/lib/python3.10/dist-packages (from diffusers) (9.4.0)\n",
            "Requirement already satisfied: fsspec>=2023.5.0 in /usr/local/lib/python3.10/dist-packages (from huggingface-hub>=0.20.2->diffusers) (2023.6.0)\n",
            "Requirement already satisfied: tqdm>=4.42.1 in /usr/local/lib/python3.10/dist-packages (from huggingface-hub>=0.20.2->diffusers) (4.66.2)\n",
            "Requirement already satisfied: pyyaml>=5.1 in /usr/local/lib/python3.10/dist-packages (from huggingface-hub>=0.20.2->diffusers) (6.0.1)\n",
            "Requirement already satisfied: typing-extensions>=3.7.4.3 in /usr/local/lib/python3.10/dist-packages (from huggingface-hub>=0.20.2->diffusers) (4.10.0)\n",
            "Requirement already satisfied: packaging>=20.9 in /usr/local/lib/python3.10/dist-packages (from huggingface-hub>=0.20.2->diffusers) (24.0)\n",
            "Requirement already satisfied: zipp>=0.5 in /usr/local/lib/python3.10/dist-packages (from importlib-metadata->diffusers) (3.18.1)\n",
            "Requirement already satisfied: chardet<5,>=3.0.2 in /usr/local/lib/python3.10/dist-packages (from requests->diffusers) (4.0.0)\n",
            "Requirement already satisfied: idna<3,>=2.5 in /usr/local/lib/python3.10/dist-packages (from requests->diffusers) (2.10)\n",
            "Requirement already satisfied: urllib3<1.27,>=1.21.1 in /usr/local/lib/python3.10/dist-packages (from requests->diffusers) (1.26.18)\n",
            "Requirement already satisfied: certifi>=2017.4.17 in /usr/local/lib/python3.10/dist-packages (from requests->diffusers) (2024.2.2)\n",
            "Installing collected packages: diffusers\n",
            "Successfully installed diffusers-0.27.2\n"
          ]
        }
      ],
      "source": [
        "%pip install diffusers\n",
        "import torchvision\n",
        "from torchvision import transforms, datasets\n",
        "import torch.optim as optim\n",
        "import torch.nn.functional as F\n",
        "import pandas as pd\n",
        "import numpy as np\n",
        "import transformers\n",
        "import torch\n",
        "from torch.utils.data import Dataset, DataLoader, random_split\n",
        "from tqdm import tqdm\n",
        "import torch.nn as nn\n",
        "from matplotlib import pyplot as plt\n",
        "from PIL import Image\n",
        "from keras.datasets import cifar10\n",
        "from diffusers import UNet2DModel, DDPMScheduler"
      ]
    },
    {
      "cell_type": "code",
      "execution_count": null,
      "metadata": {
        "id": "KO_a_wWDyaXz"
      },
      "outputs": [],
      "source": [
        "#Load the data and choose one class, then create the data loader."
      ]
    },
    {
      "cell_type": "code",
      "execution_count": null,
      "metadata": {
        "id": "gcRsvgtY94tI",
        "colab": {
          "base_uri": "https://localhost:8080/"
        },
        "outputId": "ef855106-892e-4aa7-e9e2-75dfb2d54b97"
      },
      "outputs": [
        {
          "output_type": "stream",
          "name": "stdout",
          "text": [
            "Files already downloaded and verified\n"
          ]
        }
      ],
      "source": [
        "class CustomDataset(Dataset):\n",
        "    def __init__(self, images, transform=None):\n",
        "        #To do\n",
        "        self.images = images\n",
        "        self.transform = transform\n",
        "\n",
        "    def __len__(self):\n",
        "        return len(self.images)\n",
        "\n",
        "    def __getitem__(self, idx):\n",
        "        #To do\n",
        "        image = self.images[idx]\n",
        "        if self.transform:\n",
        "            image = self.transform(image)\n",
        "        return  image\n",
        "\n",
        "\n",
        "preprocess = transforms.Compose([\n",
        "    transforms.ToTensor(),\n",
        "    transforms.Normalize([0.5], [0.5])\n",
        "])\n",
        "\n",
        "mydata = datasets.CIFAR10(root = './data', train = True, download = True, transform = None)\n",
        "images = [img for img, label in mydata if label == 1]\n",
        "mydataset = CustomDataset(images, transform = preprocess)\n",
        "\n",
        "dataloader = DataLoader(mydataset, batch_size = 32, shuffle = True)"
      ]
    },
    {
      "cell_type": "code",
      "execution_count": null,
      "metadata": {
        "id": "VBt3lnzAQAa_"
      },
      "outputs": [],
      "source": [
        "def show_images(x):\n",
        "    x = x * 0.5 + 0.5\n",
        "    grid = torchvision.utils.make_grid(x)\n",
        "    grid = grid.detach().cpu().permute(1, 2, 0).clip(0, 1) * 255\n",
        "    grid = Image.fromarray(np.array(grid).astype(np.uint8))\n",
        "    return grid"
      ]
    },
    {
      "cell_type": "code",
      "execution_count": null,
      "metadata": {
        "id": "li9k_88v_-fW",
        "colab": {
          "base_uri": "https://localhost:8080/",
          "height": 81
        },
        "outputId": "517dd531-dba8-499b-d6da-1b9ad7ce29d0"
      },
      "outputs": [
        {
          "output_type": "execute_result",
          "data": {
            "text/plain": [
              "<PIL.Image.Image image mode=RGB size=512x64>"
            ],
            "image/png": "[encoded data removed]"
          },
          "metadata": {},
          "execution_count": 32
        }
      ],
      "source": [
        "x_test = next(iter(dataloader))[:6]\n",
        "show_images(x_test).resize((8 * 64, 64), resample=Image.NEAREST)"
      ]
    },
    {
      "cell_type": "code",
      "source": [
        "def forwardpass(image, scheduler):\n",
        "    noise = torch.randn(image.shape).to(device)\n",
        "    ts = torch.randint(0, 1000, size=(image.shape[0],)).long().to(device)\n",
        "    newimage = scheduler.add_noise(image, noise, ts)\n",
        "    return newimage, noise, ts"
      ],
      "metadata": {
        "id": "dxSyxSbbx8TU"
      },
      "execution_count": null,
      "outputs": []
    },
    {
      "cell_type": "code",
      "source": [
        "# images\n",
        "scheduler = DDPMScheduler()\n",
        "ts = torch.tensor([0, 100, 200, 300, 400, 500, 600, 700, 800, 900, 999])\n",
        "ts = ts.to(device)\n",
        "x_test = x_test.to(device)\n",
        "newimages = []\n",
        "for t in ts:\n",
        "    noise = torch.randn(x_test.shape).to(device)\n",
        "    newimage = scheduler.add_noise(x_test, noise, t)\n",
        "    newimages.append(newimage)"
      ],
      "metadata": {
        "id": "azq1uhdFdadv"
      },
      "execution_count": null,
      "outputs": []
    },
    {
      "cell_type": "code",
      "source": [
        "show_images(newimages[0])"
      ],
      "metadata": {
        "id": "sdl0fOA5g9LZ",
        "colab": {
          "base_uri": "https://localhost:8080/",
          "height": 53
        },
        "outputId": "cc6ff1b6-f187-42a8-8986-3d3543a0cec4"
      },
      "execution_count": null,
      "outputs": [
        {
          "output_type": "execute_result",
          "data": {
            "text/plain": [
              "<PIL.Image.Image image mode=RGB size=206x36>"
            ],
            "image/png": "[encoded data removed]"
          },
          "metadata": {},
          "execution_count": 35
        }
      ]
    },
    {
      "cell_type": "code",
      "source": [
        "show_images(newimages[1])"
      ],
      "metadata": {
        "id": "RKbMBpQnhG0O",
        "colab": {
          "base_uri": "https://localhost:8080/",
          "height": 53
        },
        "outputId": "912972ec-8b93-4569-c399-96c8a51499a8"
      },
      "execution_count": null,
      "outputs": [
        {
          "output_type": "execute_result",
          "data": {
            "text/plain": [
              "<PIL.Image.Image image mode=RGB size=206x36>"
            ],
            "image/png": "[encoded data removed]"
          },
          "metadata": {},
          "execution_count": 36
        }
      ]
    },
    {
      "cell_type": "code",
      "source": [
        "show_images(newimages[2])"
      ],
      "metadata": {
        "id": "HRsCRmvihKO4",
        "colab": {
          "base_uri": "https://localhost:8080/",
          "height": 53
        },
        "outputId": "7ac4f668-e436-4bba-cd76-9768b0af25aa"
      },
      "execution_count": null,
      "outputs": [
        {
          "output_type": "execute_result",
          "data": {
            "text/plain": [
              "<PIL.Image.Image image mode=RGB size=206x36>"
            ],
            "image/png": "[encoded data removed]"
          },
          "metadata": {},
          "execution_count": 37
        }
      ]
    },
    {
      "cell_type": "code",
      "source": [
        "show_images(newimages[3])"
      ],
      "metadata": {
        "id": "B7p8yiDKhLDm",
        "colab": {
          "base_uri": "https://localhost:8080/",
          "height": 53
        },
        "outputId": "f60e35a8-d647-4048-8fd1-2a7c01e0ea1e"
      },
      "execution_count": null,
      "outputs": [
        {
          "output_type": "execute_result",
          "data": {
            "text/plain": [
              "<PIL.Image.Image image mode=RGB size=206x36>"
            ],
            "image/png": "[encoded data removed]"
          },
          "metadata": {},
          "execution_count": 38
        }
      ]
    },
    {
      "cell_type": "code",
      "source": [
        "show_images(newimages[4])"
      ],
      "metadata": {
        "id": "moso474NhMMw",
        "colab": {
          "base_uri": "https://localhost:8080/",
          "height": 53
        },
        "outputId": "11418c1e-10f8-48ca-a11b-9836979e9087"
      },
      "execution_count": null,
      "outputs": [
        {
          "output_type": "execute_result",
          "data": {
            "text/plain": [
              "<PIL.Image.Image image mode=RGB size=206x36>"
            ],
            "image/png": "[encoded data removed]"
          },
          "metadata": {},
          "execution_count": 39
        }
      ]
    },
    {
      "cell_type": "code",
      "source": [
        "show_images(newimages[5])"
      ],
      "metadata": {
        "id": "SXqOuvrIhNHb",
        "colab": {
          "base_uri": "https://localhost:8080/",
          "height": 53
        },
        "outputId": "19076ef1-6862-45d3-c834-641eaaaf1cbc"
      },
      "execution_count": null,
      "outputs": [
        {
          "output_type": "execute_result",
          "data": {
            "text/plain": [
              "<PIL.Image.Image image mode=RGB size=206x36>"
            ],
            "image/png": "[encoded data removed]"
          },
          "metadata": {},
          "execution_count": 40
        }
      ]
    },
    {
      "cell_type": "code",
      "source": [
        "show_images(newimages[6])"
      ],
      "metadata": {
        "id": "1XnmK8q5hOGL",
        "colab": {
          "base_uri": "https://localhost:8080/",
          "height": 53
        },
        "outputId": "1eca7440-1904-40d0-ecc9-6199d00ddc9a"
      },
      "execution_count": null,
      "outputs": [
        {
          "output_type": "execute_result",
          "data": {
            "text/plain": [
              "<PIL.Image.Image image mode=RGB size=206x36>"
            ],
            "image/png": "[encoded data removed]"
          },
          "metadata": {},
          "execution_count": 41
        }
      ]
    },
    {
      "cell_type": "code",
      "source": [
        "show_images(newimages[7])"
      ],
      "metadata": {
        "id": "W0W1hSQDhPFD",
        "colab": {
          "base_uri": "https://localhost:8080/",
          "height": 53
        },
        "outputId": "bb1f0b87-e65c-441c-919d-733396b8b1fb"
      },
      "execution_count": null,
      "outputs": [
        {
          "output_type": "execute_result",
          "data": {
            "text/plain": [
              "<PIL.Image.Image image mode=RGB size=206x36>"
            ],
            "image/png": "[encoded data removed]"
          },
          "metadata": {},
          "execution_count": 42
        }
      ]
    },
    {
      "cell_type": "code",
      "source": [
        "show_images(newimages[8])"
      ],
      "metadata": {
        "id": "6ukENm61hQGl",
        "colab": {
          "base_uri": "https://localhost:8080/",
          "height": 53
        },
        "outputId": "db5c5d52-f265-49c3-aad0-a65b3ef879a7"
      },
      "execution_count": null,
      "outputs": [
        {
          "output_type": "execute_result",
          "data": {
            "text/plain": [
              "<PIL.Image.Image image mode=RGB size=206x36>"
            ],
            "image/png": "[encoded data removed]"
          },
          "metadata": {},
          "execution_count": 43
        }
      ]
    },
    {
      "cell_type": "code",
      "source": [
        "show_images(newimages[9])"
      ],
      "metadata": {
        "id": "LtmmslGrhRFF",
        "colab": {
          "base_uri": "https://localhost:8080/",
          "height": 53
        },
        "outputId": "7d7e2326-ea90-4488-eb9a-3554126f8213"
      },
      "execution_count": null,
      "outputs": [
        {
          "output_type": "execute_result",
          "data": {
            "text/plain": [
              "<PIL.Image.Image image mode=RGB size=206x36>"
            ],
            "image/png": "[encoded data removed]"
          },
          "metadata": {},
          "execution_count": 44
        }
      ]
    },
    {
      "cell_type": "code",
      "execution_count": null,
      "metadata": {
        "id": "7e6gQANaJ9-m"
      },
      "outputs": [],
      "source": [
        "model = UNet2DModel(\n",
        "    #To do\n",
        "    sample_size = 128,\n",
        "    in_channels = 3,\n",
        "    out_channels = 3,\n",
        "    layers_per_block = 2,\n",
        "    block_out_channels = (128, 128, 256, 512, 512),\n",
        "    down_block_types = (\n",
        "        \"DownBlock2D\",\n",
        "        \"DownBlock2D\",\n",
        "        \"DownBlock2D\",\n",
        "        \"AttnDownBlock2D\",\n",
        "        \"DownBlock2D\",\n",
        "    ),\n",
        "    up_block_types = (\n",
        "        \"UpBlock2D\",\n",
        "        \"AttnUpBlock2D\",\n",
        "        \"UpBlock2D\",\n",
        "        \"UpBlock2D\",\n",
        "        \"UpBlock2D\",\n",
        "    ),\n",
        " )"
      ]
    },
    {
      "cell_type": "code",
      "execution_count": null,
      "metadata": {
        "id": "j_K8ic9cKeWp"
      },
      "outputs": [],
      "source": [
        "def train(model,data_loader,criterion,optimizer):\n",
        "    totalloss = 0.0\n",
        "    with tqdm(data_loader, desc =\"   train\") as train_tqdm:\n",
        "        scheduler = DDPMScheduler()\n",
        "        for batch_idx, inputs in enumerate(train_tqdm):\n",
        "            model.train()\n",
        "            inputs = inputs.to(device)\n",
        "            #To do\n",
        "            outputs, noise, ts = forwardpass(inputs, scheduler)\n",
        "            pred = model(outputs, ts, return_dict = False)[0]\n",
        "            optimizer.zero_grad()\n",
        "            loss = criterion(noise, pred)\n",
        "            loss.backward()\n",
        "            optimizer.step()\n",
        "            totalloss += loss.detach().item()\n",
        "    average_train_loss = totalloss / len(data_loader)\n",
        "    return average_train_loss"
      ]
    },
    {
      "cell_type": "code",
      "execution_count": null,
      "metadata": {
        "id": "YwxxnkyaK3zz",
        "colab": {
          "base_uri": "https://localhost:8080/"
        },
        "outputId": "4e9098c5-f0c6-41e9-ba73-d891b0bf72f9"
      },
      "outputs": [
        {
          "output_type": "stream",
          "name": "stderr",
          "text": [
            "   train: 100%|██████████| 157/157 [00:45<00:00,  3.46it/s]\n"
          ]
        },
        {
          "output_type": "stream",
          "name": "stdout",
          "text": [
            "loss:  0.12574609637165526\n"
          ]
        },
        {
          "output_type": "stream",
          "name": "stderr",
          "text": [
            "   train: 100%|██████████| 157/157 [00:39<00:00,  3.98it/s]\n"
          ]
        },
        {
          "output_type": "stream",
          "name": "stdout",
          "text": [
            "loss:  0.059111313918119024\n"
          ]
        },
        {
          "output_type": "stream",
          "name": "stderr",
          "text": [
            "   train: 100%|██████████| 157/157 [00:41<00:00,  3.77it/s]\n"
          ]
        },
        {
          "output_type": "stream",
          "name": "stdout",
          "text": [
            "loss:  0.05315863948528934\n"
          ]
        },
        {
          "output_type": "stream",
          "name": "stderr",
          "text": [
            "   train: 100%|██████████| 157/157 [00:39<00:00,  3.96it/s]\n"
          ]
        },
        {
          "output_type": "stream",
          "name": "stdout",
          "text": [
            "loss:  0.049603663883201636\n"
          ]
        },
        {
          "output_type": "stream",
          "name": "stderr",
          "text": [
            "   train: 100%|██████████| 157/157 [00:39<00:00,  3.97it/s]\n"
          ]
        },
        {
          "output_type": "stream",
          "name": "stdout",
          "text": [
            "loss:  0.04933843455591779\n"
          ]
        },
        {
          "output_type": "stream",
          "name": "stderr",
          "text": [
            "   train: 100%|██████████| 157/157 [00:39<00:00,  3.96it/s]\n"
          ]
        },
        {
          "output_type": "stream",
          "name": "stdout",
          "text": [
            "loss:  0.04437075682862359\n"
          ]
        },
        {
          "output_type": "stream",
          "name": "stderr",
          "text": [
            "   train: 100%|██████████| 157/157 [00:39<00:00,  3.95it/s]\n"
          ]
        },
        {
          "output_type": "stream",
          "name": "stdout",
          "text": [
            "loss:  0.045478250368670294\n"
          ]
        },
        {
          "output_type": "stream",
          "name": "stderr",
          "text": [
            "   train: 100%|██████████| 157/157 [00:39<00:00,  3.95it/s]\n"
          ]
        },
        {
          "output_type": "stream",
          "name": "stdout",
          "text": [
            "loss:  0.04499333031523\n"
          ]
        },
        {
          "output_type": "stream",
          "name": "stderr",
          "text": [
            "   train: 100%|██████████| 157/157 [00:39<00:00,  3.97it/s]\n"
          ]
        },
        {
          "output_type": "stream",
          "name": "stdout",
          "text": [
            "loss:  0.04362673224038949\n"
          ]
        },
        {
          "output_type": "stream",
          "name": "stderr",
          "text": [
            "   train: 100%|██████████| 157/157 [00:39<00:00,  3.97it/s]\n"
          ]
        },
        {
          "output_type": "stream",
          "name": "stdout",
          "text": [
            "loss:  0.044089865378418545\n"
          ]
        },
        {
          "output_type": "stream",
          "name": "stderr",
          "text": [
            "   train: 100%|██████████| 157/157 [00:39<00:00,  3.96it/s]\n"
          ]
        },
        {
          "output_type": "stream",
          "name": "stdout",
          "text": [
            "loss:  0.042416818979771655\n"
          ]
        },
        {
          "output_type": "stream",
          "name": "stderr",
          "text": [
            "   train: 100%|██████████| 157/157 [00:39<00:00,  3.96it/s]\n"
          ]
        },
        {
          "output_type": "stream",
          "name": "stdout",
          "text": [
            "loss:  0.041986632759973504\n"
          ]
        },
        {
          "output_type": "stream",
          "name": "stderr",
          "text": [
            "   train: 100%|██████████| 157/157 [00:39<00:00,  3.96it/s]\n"
          ]
        },
        {
          "output_type": "stream",
          "name": "stdout",
          "text": [
            "loss:  0.04078748530951465\n"
          ]
        },
        {
          "output_type": "stream",
          "name": "stderr",
          "text": [
            "   train: 100%|██████████| 157/157 [00:39<00:00,  3.95it/s]\n"
          ]
        },
        {
          "output_type": "stream",
          "name": "stdout",
          "text": [
            "loss:  0.03988302214913497\n"
          ]
        },
        {
          "output_type": "stream",
          "name": "stderr",
          "text": [
            "   train: 100%|██████████| 157/157 [00:39<00:00,  3.96it/s]\n"
          ]
        },
        {
          "output_type": "stream",
          "name": "stdout",
          "text": [
            "loss:  0.04044637094684847\n"
          ]
        },
        {
          "output_type": "stream",
          "name": "stderr",
          "text": [
            "   train: 100%|██████████| 157/157 [00:39<00:00,  3.97it/s]\n"
          ]
        },
        {
          "output_type": "stream",
          "name": "stdout",
          "text": [
            "loss:  0.03986947662582633\n"
          ]
        },
        {
          "output_type": "stream",
          "name": "stderr",
          "text": [
            "   train: 100%|██████████| 157/157 [00:39<00:00,  3.96it/s]\n"
          ]
        },
        {
          "output_type": "stream",
          "name": "stdout",
          "text": [
            "loss:  0.04033761732517534\n"
          ]
        },
        {
          "output_type": "stream",
          "name": "stderr",
          "text": [
            "   train: 100%|██████████| 157/157 [00:39<00:00,  3.96it/s]\n"
          ]
        },
        {
          "output_type": "stream",
          "name": "stdout",
          "text": [
            "loss:  0.03960125501249816\n"
          ]
        },
        {
          "output_type": "stream",
          "name": "stderr",
          "text": [
            "   train: 100%|██████████| 157/157 [00:39<00:00,  3.96it/s]\n"
          ]
        },
        {
          "output_type": "stream",
          "name": "stdout",
          "text": [
            "loss:  0.03993080654863719\n"
          ]
        },
        {
          "output_type": "stream",
          "name": "stderr",
          "text": [
            "   train: 100%|██████████| 157/157 [00:39<00:00,  3.96it/s]\n"
          ]
        },
        {
          "output_type": "stream",
          "name": "stdout",
          "text": [
            "loss:  0.03688318872005696\n"
          ]
        },
        {
          "output_type": "stream",
          "name": "stderr",
          "text": [
            "   train: 100%|██████████| 157/157 [00:39<00:00,  3.96it/s]\n"
          ]
        },
        {
          "output_type": "stream",
          "name": "stdout",
          "text": [
            "loss:  0.04061729293079323\n"
          ]
        },
        {
          "output_type": "stream",
          "name": "stderr",
          "text": [
            "   train: 100%|██████████| 157/157 [00:42<00:00,  3.70it/s]\n"
          ]
        },
        {
          "output_type": "stream",
          "name": "stdout",
          "text": [
            "loss:  0.03828503649420799\n"
          ]
        },
        {
          "output_type": "stream",
          "name": "stderr",
          "text": [
            "   train: 100%|██████████| 157/157 [00:40<00:00,  3.87it/s]\n"
          ]
        },
        {
          "output_type": "stream",
          "name": "stdout",
          "text": [
            "loss:  0.03847233456363724\n"
          ]
        },
        {
          "output_type": "stream",
          "name": "stderr",
          "text": [
            "   train: 100%|██████████| 157/157 [00:39<00:00,  3.96it/s]\n"
          ]
        },
        {
          "output_type": "stream",
          "name": "stdout",
          "text": [
            "loss:  0.03993145616096296\n"
          ]
        },
        {
          "output_type": "stream",
          "name": "stderr",
          "text": [
            "   train: 100%|██████████| 157/157 [00:40<00:00,  3.87it/s]\n"
          ]
        },
        {
          "output_type": "stream",
          "name": "stdout",
          "text": [
            "loss:  0.03974610298966906\n"
          ]
        },
        {
          "output_type": "stream",
          "name": "stderr",
          "text": [
            "   train: 100%|██████████| 157/157 [00:39<00:00,  3.96it/s]\n"
          ]
        },
        {
          "output_type": "stream",
          "name": "stdout",
          "text": [
            "loss:  0.03856198177643263\n"
          ]
        },
        {
          "output_type": "stream",
          "name": "stderr",
          "text": [
            "   train: 100%|██████████| 157/157 [00:39<00:00,  3.97it/s]\n"
          ]
        },
        {
          "output_type": "stream",
          "name": "stdout",
          "text": [
            "loss:  0.03886452671377712\n"
          ]
        },
        {
          "output_type": "stream",
          "name": "stderr",
          "text": [
            "   train: 100%|██████████| 157/157 [00:40<00:00,  3.92it/s]\n"
          ]
        },
        {
          "output_type": "stream",
          "name": "stdout",
          "text": [
            "loss:  0.0384006059615855\n"
          ]
        },
        {
          "output_type": "stream",
          "name": "stderr",
          "text": [
            "   train: 100%|██████████| 157/157 [00:39<00:00,  3.96it/s]\n"
          ]
        },
        {
          "output_type": "stream",
          "name": "stdout",
          "text": [
            "loss:  0.03678708480801552\n"
          ]
        },
        {
          "output_type": "stream",
          "name": "stderr",
          "text": [
            "   train: 100%|██████████| 157/157 [00:39<00:00,  3.96it/s]\n"
          ]
        },
        {
          "output_type": "stream",
          "name": "stdout",
          "text": [
            "loss:  0.03859718627397232\n"
          ]
        },
        {
          "output_type": "stream",
          "name": "stderr",
          "text": [
            "   train: 100%|██████████| 157/157 [00:39<00:00,  3.96it/s]\n"
          ]
        },
        {
          "output_type": "stream",
          "name": "stdout",
          "text": [
            "loss:  0.037089438059005386\n"
          ]
        },
        {
          "output_type": "stream",
          "name": "stderr",
          "text": [
            "   train: 100%|██████████| 157/157 [00:39<00:00,  3.96it/s]\n"
          ]
        },
        {
          "output_type": "stream",
          "name": "stdout",
          "text": [
            "loss:  0.036845503813901524\n"
          ]
        },
        {
          "output_type": "stream",
          "name": "stderr",
          "text": [
            "   train: 100%|██████████| 157/157 [00:39<00:00,  3.96it/s]\n"
          ]
        },
        {
          "output_type": "stream",
          "name": "stdout",
          "text": [
            "loss:  0.03760475118994523\n"
          ]
        },
        {
          "output_type": "stream",
          "name": "stderr",
          "text": [
            "   train: 100%|██████████| 157/157 [00:39<00:00,  3.96it/s]\n"
          ]
        },
        {
          "output_type": "stream",
          "name": "stdout",
          "text": [
            "loss:  0.037414060680160094\n"
          ]
        },
        {
          "output_type": "stream",
          "name": "stderr",
          "text": [
            "   train: 100%|██████████| 157/157 [00:39<00:00,  3.96it/s]\n"
          ]
        },
        {
          "output_type": "stream",
          "name": "stdout",
          "text": [
            "loss:  0.03666056220413773\n"
          ]
        },
        {
          "output_type": "stream",
          "name": "stderr",
          "text": [
            "   train: 100%|██████████| 157/157 [00:39<00:00,  3.96it/s]\n"
          ]
        },
        {
          "output_type": "stream",
          "name": "stdout",
          "text": [
            "loss:  0.03736441332704512\n"
          ]
        },
        {
          "output_type": "stream",
          "name": "stderr",
          "text": [
            "   train: 100%|██████████| 157/157 [00:39<00:00,  3.96it/s]\n"
          ]
        },
        {
          "output_type": "stream",
          "name": "stdout",
          "text": [
            "loss:  0.037407956631842314\n"
          ]
        },
        {
          "output_type": "stream",
          "name": "stderr",
          "text": [
            "   train: 100%|██████████| 157/157 [00:39<00:00,  3.96it/s]\n"
          ]
        },
        {
          "output_type": "stream",
          "name": "stdout",
          "text": [
            "loss:  0.035642123128625615\n"
          ]
        },
        {
          "output_type": "stream",
          "name": "stderr",
          "text": [
            "   train: 100%|██████████| 157/157 [00:39<00:00,  3.96it/s]\n"
          ]
        },
        {
          "output_type": "stream",
          "name": "stdout",
          "text": [
            "loss:  0.03658217675153427\n"
          ]
        },
        {
          "output_type": "stream",
          "name": "stderr",
          "text": [
            "   train: 100%|██████████| 157/157 [00:39<00:00,  3.97it/s]\n"
          ]
        },
        {
          "output_type": "stream",
          "name": "stdout",
          "text": [
            "loss:  0.036796332520853944\n"
          ]
        },
        {
          "output_type": "stream",
          "name": "stderr",
          "text": [
            "   train: 100%|██████████| 157/157 [00:39<00:00,  3.96it/s]\n"
          ]
        },
        {
          "output_type": "stream",
          "name": "stdout",
          "text": [
            "loss:  0.036227162476557835\n"
          ]
        },
        {
          "output_type": "stream",
          "name": "stderr",
          "text": [
            "   train: 100%|██████████| 157/157 [00:39<00:00,  3.95it/s]\n"
          ]
        },
        {
          "output_type": "stream",
          "name": "stdout",
          "text": [
            "loss:  0.03751905328315345\n"
          ]
        },
        {
          "output_type": "stream",
          "name": "stderr",
          "text": [
            "   train: 100%|██████████| 157/157 [00:39<00:00,  3.94it/s]\n"
          ]
        },
        {
          "output_type": "stream",
          "name": "stdout",
          "text": [
            "loss:  0.036012968861136085\n"
          ]
        },
        {
          "output_type": "stream",
          "name": "stderr",
          "text": [
            "   train: 100%|██████████| 157/157 [00:39<00:00,  3.96it/s]\n"
          ]
        },
        {
          "output_type": "stream",
          "name": "stdout",
          "text": [
            "loss:  0.0348200237402206\n"
          ]
        },
        {
          "output_type": "stream",
          "name": "stderr",
          "text": [
            "   train: 100%|██████████| 157/157 [00:39<00:00,  3.96it/s]\n"
          ]
        },
        {
          "output_type": "stream",
          "name": "stdout",
          "text": [
            "loss:  0.03555582386032222\n"
          ]
        },
        {
          "output_type": "stream",
          "name": "stderr",
          "text": [
            "   train: 100%|██████████| 157/157 [00:39<00:00,  3.96it/s]\n"
          ]
        },
        {
          "output_type": "stream",
          "name": "stdout",
          "text": [
            "loss:  0.03781460544723234\n"
          ]
        },
        {
          "output_type": "stream",
          "name": "stderr",
          "text": [
            "   train: 100%|██████████| 157/157 [00:39<00:00,  3.96it/s]\n"
          ]
        },
        {
          "output_type": "stream",
          "name": "stdout",
          "text": [
            "loss:  0.0352186529487846\n"
          ]
        },
        {
          "output_type": "stream",
          "name": "stderr",
          "text": [
            "   train: 100%|██████████| 157/157 [00:39<00:00,  3.96it/s]\n"
          ]
        },
        {
          "output_type": "stream",
          "name": "stdout",
          "text": [
            "loss:  0.03677149172753665\n"
          ]
        },
        {
          "output_type": "stream",
          "name": "stderr",
          "text": [
            "   train: 100%|██████████| 157/157 [00:39<00:00,  3.95it/s]\n"
          ]
        },
        {
          "output_type": "stream",
          "name": "stdout",
          "text": [
            "loss:  0.034742907051495305\n"
          ]
        },
        {
          "output_type": "stream",
          "name": "stderr",
          "text": [
            "   train: 100%|██████████| 157/157 [00:39<00:00,  3.96it/s]\n"
          ]
        },
        {
          "output_type": "stream",
          "name": "stdout",
          "text": [
            "loss:  0.03606749593523467\n"
          ]
        },
        {
          "output_type": "stream",
          "name": "stderr",
          "text": [
            "   train: 100%|██████████| 157/157 [00:39<00:00,  3.96it/s]\n"
          ]
        },
        {
          "output_type": "stream",
          "name": "stdout",
          "text": [
            "loss:  0.035333451316662275\n"
          ]
        },
        {
          "output_type": "stream",
          "name": "stderr",
          "text": [
            "   train: 100%|██████████| 157/157 [00:39<00:00,  3.96it/s]\n"
          ]
        },
        {
          "output_type": "stream",
          "name": "stdout",
          "text": [
            "loss:  0.037716479829637106\n"
          ]
        },
        {
          "output_type": "stream",
          "name": "stderr",
          "text": [
            "   train: 100%|██████████| 157/157 [00:40<00:00,  3.92it/s]\n"
          ]
        },
        {
          "output_type": "stream",
          "name": "stdout",
          "text": [
            "loss:  0.03440814677056423\n"
          ]
        },
        {
          "output_type": "stream",
          "name": "stderr",
          "text": [
            "   train: 100%|██████████| 157/157 [00:39<00:00,  3.96it/s]\n"
          ]
        },
        {
          "output_type": "stream",
          "name": "stdout",
          "text": [
            "loss:  0.035242462358704416\n"
          ]
        },
        {
          "output_type": "stream",
          "name": "stderr",
          "text": [
            "   train: 100%|██████████| 157/157 [00:39<00:00,  3.95it/s]\n"
          ]
        },
        {
          "output_type": "stream",
          "name": "stdout",
          "text": [
            "loss:  0.03505397233281546\n"
          ]
        },
        {
          "output_type": "stream",
          "name": "stderr",
          "text": [
            "   train: 100%|██████████| 157/157 [00:39<00:00,  3.96it/s]\n"
          ]
        },
        {
          "output_type": "stream",
          "name": "stdout",
          "text": [
            "loss:  0.035663616517262096\n"
          ]
        },
        {
          "output_type": "stream",
          "name": "stderr",
          "text": [
            "   train: 100%|██████████| 157/157 [00:39<00:00,  3.96it/s]\n"
          ]
        },
        {
          "output_type": "stream",
          "name": "stdout",
          "text": [
            "loss:  0.03476583646242596\n"
          ]
        },
        {
          "output_type": "stream",
          "name": "stderr",
          "text": [
            "   train: 100%|██████████| 157/157 [00:39<00:00,  3.96it/s]\n"
          ]
        },
        {
          "output_type": "stream",
          "name": "stdout",
          "text": [
            "loss:  0.034876834150332554\n"
          ]
        },
        {
          "output_type": "stream",
          "name": "stderr",
          "text": [
            "   train: 100%|██████████| 157/157 [00:39<00:00,  3.96it/s]\n"
          ]
        },
        {
          "output_type": "stream",
          "name": "stdout",
          "text": [
            "loss:  0.03450589053403989\n"
          ]
        },
        {
          "output_type": "stream",
          "name": "stderr",
          "text": [
            "   train: 100%|██████████| 157/157 [00:39<00:00,  3.96it/s]\n"
          ]
        },
        {
          "output_type": "stream",
          "name": "stdout",
          "text": [
            "loss:  0.03584467681350222\n"
          ]
        },
        {
          "output_type": "stream",
          "name": "stderr",
          "text": [
            "   train: 100%|██████████| 157/157 [00:39<00:00,  3.96it/s]\n"
          ]
        },
        {
          "output_type": "stream",
          "name": "stdout",
          "text": [
            "loss:  0.03492631626784042\n"
          ]
        },
        {
          "output_type": "stream",
          "name": "stderr",
          "text": [
            "   train: 100%|██████████| 157/157 [00:39<00:00,  3.97it/s]\n"
          ]
        },
        {
          "output_type": "stream",
          "name": "stdout",
          "text": [
            "loss:  0.03631526476756972\n"
          ]
        },
        {
          "output_type": "stream",
          "name": "stderr",
          "text": [
            "   train: 100%|██████████| 157/157 [00:39<00:00,  3.97it/s]\n"
          ]
        },
        {
          "output_type": "stream",
          "name": "stdout",
          "text": [
            "loss:  0.034567251350659474\n"
          ]
        },
        {
          "output_type": "stream",
          "name": "stderr",
          "text": [
            "   train: 100%|██████████| 157/157 [00:39<00:00,  3.98it/s]\n"
          ]
        },
        {
          "output_type": "stream",
          "name": "stdout",
          "text": [
            "loss:  0.03436618512437032\n"
          ]
        },
        {
          "output_type": "stream",
          "name": "stderr",
          "text": [
            "   train: 100%|██████████| 157/157 [00:39<00:00,  3.96it/s]\n"
          ]
        },
        {
          "output_type": "stream",
          "name": "stdout",
          "text": [
            "loss:  0.034581670288447365\n"
          ]
        },
        {
          "output_type": "stream",
          "name": "stderr",
          "text": [
            "   train: 100%|██████████| 157/157 [00:39<00:00,  3.96it/s]\n"
          ]
        },
        {
          "output_type": "stream",
          "name": "stdout",
          "text": [
            "loss:  0.03624751377898227\n"
          ]
        },
        {
          "output_type": "stream",
          "name": "stderr",
          "text": [
            "   train: 100%|██████████| 157/157 [00:39<00:00,  3.97it/s]\n"
          ]
        },
        {
          "output_type": "stream",
          "name": "stdout",
          "text": [
            "loss:  0.033728720394858885\n"
          ]
        },
        {
          "output_type": "stream",
          "name": "stderr",
          "text": [
            "   train: 100%|██████████| 157/157 [00:39<00:00,  3.96it/s]\n"
          ]
        },
        {
          "output_type": "stream",
          "name": "stdout",
          "text": [
            "loss:  0.035467729185986674\n"
          ]
        },
        {
          "output_type": "stream",
          "name": "stderr",
          "text": [
            "   train: 100%|██████████| 157/157 [00:39<00:00,  3.96it/s]\n"
          ]
        },
        {
          "output_type": "stream",
          "name": "stdout",
          "text": [
            "loss:  0.03532902070077931\n"
          ]
        },
        {
          "output_type": "stream",
          "name": "stderr",
          "text": [
            "   train: 100%|██████████| 157/157 [00:39<00:00,  3.96it/s]\n"
          ]
        },
        {
          "output_type": "stream",
          "name": "stdout",
          "text": [
            "loss:  0.034607284049841626\n"
          ]
        },
        {
          "output_type": "stream",
          "name": "stderr",
          "text": [
            "   train: 100%|██████████| 157/157 [00:39<00:00,  3.97it/s]\n"
          ]
        },
        {
          "output_type": "stream",
          "name": "stdout",
          "text": [
            "loss:  0.03363473232313516\n"
          ]
        },
        {
          "output_type": "stream",
          "name": "stderr",
          "text": [
            "   train: 100%|██████████| 157/157 [00:39<00:00,  3.97it/s]\n"
          ]
        },
        {
          "output_type": "stream",
          "name": "stdout",
          "text": [
            "loss:  0.03593397549810303\n"
          ]
        },
        {
          "output_type": "stream",
          "name": "stderr",
          "text": [
            "   train: 100%|██████████| 157/157 [00:39<00:00,  3.97it/s]\n"
          ]
        },
        {
          "output_type": "stream",
          "name": "stdout",
          "text": [
            "loss:  0.033243608070021365\n"
          ]
        },
        {
          "output_type": "stream",
          "name": "stderr",
          "text": [
            "   train: 100%|██████████| 157/157 [00:39<00:00,  3.97it/s]\n"
          ]
        },
        {
          "output_type": "stream",
          "name": "stdout",
          "text": [
            "loss:  0.0346553594283285\n"
          ]
        },
        {
          "output_type": "stream",
          "name": "stderr",
          "text": [
            "   train: 100%|██████████| 157/157 [00:39<00:00,  3.96it/s]\n"
          ]
        },
        {
          "output_type": "stream",
          "name": "stdout",
          "text": [
            "loss:  0.03592685388199463\n"
          ]
        },
        {
          "output_type": "stream",
          "name": "stderr",
          "text": [
            "   train: 100%|██████████| 157/157 [00:39<00:00,  3.96it/s]\n"
          ]
        },
        {
          "output_type": "stream",
          "name": "stdout",
          "text": [
            "loss:  0.03500526308254072\n"
          ]
        },
        {
          "output_type": "stream",
          "name": "stderr",
          "text": [
            "   train: 100%|██████████| 157/157 [00:39<00:00,  3.97it/s]\n"
          ]
        },
        {
          "output_type": "stream",
          "name": "stdout",
          "text": [
            "loss:  0.03702838034932591\n"
          ]
        },
        {
          "output_type": "stream",
          "name": "stderr",
          "text": [
            "   train: 100%|██████████| 157/157 [00:40<00:00,  3.90it/s]\n"
          ]
        },
        {
          "output_type": "stream",
          "name": "stdout",
          "text": [
            "loss:  0.03472208426256848\n"
          ]
        },
        {
          "output_type": "stream",
          "name": "stderr",
          "text": [
            "   train: 100%|██████████| 157/157 [00:39<00:00,  3.97it/s]\n"
          ]
        },
        {
          "output_type": "stream",
          "name": "stdout",
          "text": [
            "loss:  0.03500296668724934\n"
          ]
        },
        {
          "output_type": "stream",
          "name": "stderr",
          "text": [
            "   train: 100%|██████████| 157/157 [00:39<00:00,  3.97it/s]\n"
          ]
        },
        {
          "output_type": "stream",
          "name": "stdout",
          "text": [
            "loss:  0.034220707757030705\n"
          ]
        },
        {
          "output_type": "stream",
          "name": "stderr",
          "text": [
            "   train: 100%|██████████| 157/157 [00:39<00:00,  3.97it/s]\n"
          ]
        },
        {
          "output_type": "stream",
          "name": "stdout",
          "text": [
            "loss:  0.03373546612443058\n"
          ]
        },
        {
          "output_type": "stream",
          "name": "stderr",
          "text": [
            "   train: 100%|██████████| 157/157 [00:39<00:00,  3.97it/s]\n"
          ]
        },
        {
          "output_type": "stream",
          "name": "stdout",
          "text": [
            "loss:  0.03337997242001591\n"
          ]
        },
        {
          "output_type": "stream",
          "name": "stderr",
          "text": [
            "   train: 100%|██████████| 157/157 [00:39<00:00,  3.97it/s]\n"
          ]
        },
        {
          "output_type": "stream",
          "name": "stdout",
          "text": [
            "loss:  0.032875885314954695\n"
          ]
        },
        {
          "output_type": "stream",
          "name": "stderr",
          "text": [
            "   train: 100%|██████████| 157/157 [00:39<00:00,  3.96it/s]\n"
          ]
        },
        {
          "output_type": "stream",
          "name": "stdout",
          "text": [
            "loss:  0.03383010940234752\n"
          ]
        },
        {
          "output_type": "stream",
          "name": "stderr",
          "text": [
            "   train: 100%|██████████| 157/157 [00:39<00:00,  3.96it/s]\n"
          ]
        },
        {
          "output_type": "stream",
          "name": "stdout",
          "text": [
            "loss:  0.035062467766878234\n"
          ]
        },
        {
          "output_type": "stream",
          "name": "stderr",
          "text": [
            "   train: 100%|██████████| 157/157 [00:39<00:00,  3.96it/s]\n"
          ]
        },
        {
          "output_type": "stream",
          "name": "stdout",
          "text": [
            "loss:  0.033824968578851526\n"
          ]
        },
        {
          "output_type": "stream",
          "name": "stderr",
          "text": [
            "   train: 100%|██████████| 157/157 [00:39<00:00,  3.96it/s]\n"
          ]
        },
        {
          "output_type": "stream",
          "name": "stdout",
          "text": [
            "loss:  0.03374889593832432\n"
          ]
        },
        {
          "output_type": "stream",
          "name": "stderr",
          "text": [
            "   train: 100%|██████████| 157/157 [00:39<00:00,  3.96it/s]\n"
          ]
        },
        {
          "output_type": "stream",
          "name": "stdout",
          "text": [
            "loss:  0.03546491034542489\n"
          ]
        },
        {
          "output_type": "stream",
          "name": "stderr",
          "text": [
            "   train: 100%|██████████| 157/157 [00:39<00:00,  3.96it/s]\n"
          ]
        },
        {
          "output_type": "stream",
          "name": "stdout",
          "text": [
            "loss:  0.031101131633778287\n"
          ]
        },
        {
          "output_type": "stream",
          "name": "stderr",
          "text": [
            "   train: 100%|██████████| 157/157 [00:39<00:00,  3.97it/s]\n"
          ]
        },
        {
          "output_type": "stream",
          "name": "stdout",
          "text": [
            "loss:  0.03476910188699224\n"
          ]
        },
        {
          "output_type": "stream",
          "name": "stderr",
          "text": [
            "   train: 100%|██████████| 157/157 [00:39<00:00,  3.96it/s]\n"
          ]
        },
        {
          "output_type": "stream",
          "name": "stdout",
          "text": [
            "loss:  0.03449160624651393\n"
          ]
        },
        {
          "output_type": "stream",
          "name": "stderr",
          "text": [
            "   train: 100%|██████████| 157/157 [00:39<00:00,  3.96it/s]\n"
          ]
        },
        {
          "output_type": "stream",
          "name": "stdout",
          "text": [
            "loss:  0.035782905277695246\n"
          ]
        },
        {
          "output_type": "stream",
          "name": "stderr",
          "text": [
            "   train: 100%|██████████| 157/157 [00:39<00:00,  3.96it/s]\n"
          ]
        },
        {
          "output_type": "stream",
          "name": "stdout",
          "text": [
            "loss:  0.03289328898736246\n"
          ]
        },
        {
          "output_type": "stream",
          "name": "stderr",
          "text": [
            "   train: 100%|██████████| 157/157 [00:39<00:00,  3.97it/s]\n"
          ]
        },
        {
          "output_type": "stream",
          "name": "stdout",
          "text": [
            "loss:  0.033273732716775244\n"
          ]
        },
        {
          "output_type": "stream",
          "name": "stderr",
          "text": [
            "   train: 100%|██████████| 157/157 [00:39<00:00,  3.96it/s]\n"
          ]
        },
        {
          "output_type": "stream",
          "name": "stdout",
          "text": [
            "loss:  0.03292018603414867\n"
          ]
        },
        {
          "output_type": "stream",
          "name": "stderr",
          "text": [
            "   train: 100%|██████████| 157/157 [00:39<00:00,  3.96it/s]\n"
          ]
        },
        {
          "output_type": "stream",
          "name": "stdout",
          "text": [
            "loss:  0.033469497154994754\n"
          ]
        },
        {
          "output_type": "stream",
          "name": "stderr",
          "text": [
            "   train: 100%|██████████| 157/157 [00:39<00:00,  3.97it/s]\n"
          ]
        },
        {
          "output_type": "stream",
          "name": "stdout",
          "text": [
            "loss:  0.03268289797980884\n"
          ]
        },
        {
          "output_type": "stream",
          "name": "stderr",
          "text": [
            "   train: 100%|██████████| 157/157 [00:39<00:00,  3.96it/s]\n"
          ]
        },
        {
          "output_type": "stream",
          "name": "stdout",
          "text": [
            "loss:  0.03321327228146564\n"
          ]
        },
        {
          "output_type": "stream",
          "name": "stderr",
          "text": [
            "   train: 100%|██████████| 157/157 [00:39<00:00,  3.97it/s]\n"
          ]
        },
        {
          "output_type": "stream",
          "name": "stdout",
          "text": [
            "loss:  0.03489319936840967\n"
          ]
        },
        {
          "output_type": "stream",
          "name": "stderr",
          "text": [
            "   train: 100%|██████████| 157/157 [00:39<00:00,  3.96it/s]"
          ]
        },
        {
          "output_type": "stream",
          "name": "stdout",
          "text": [
            "loss:  0.03341699923703056\n"
          ]
        },
        {
          "output_type": "stream",
          "name": "stderr",
          "text": [
            "\n"
          ]
        }
      ],
      "source": [
        "# train u2net model with forward pass\n",
        "model = model.to(device)\n",
        "criterion = F.mse_loss\n",
        "optimizer = optim.Adam(model.parameters(), lr = 0.0001)\n",
        "\n",
        "for i in range(0,100):\n",
        "    loss = train(model, dataloader, criterion, optimizer)\n",
        "    print(\"loss: \", loss)"
      ]
    },
    {
      "cell_type": "code",
      "source": [
        "sample = torch.randn(6, 3, 32, 32).to(device)\n",
        "\n",
        "#denoise\n",
        "show_images(sample)"
      ],
      "metadata": {
        "id": "ySbnnIPxx8RE",
        "colab": {
          "base_uri": "https://localhost:8080/",
          "height": 53
        },
        "outputId": "8842eaac-08c5-4c32-c60b-dbc72c726f60"
      },
      "execution_count": null,
      "outputs": [
        {
          "output_type": "execute_result",
          "data": {
            "text/plain": [
              "<PIL.Image.Image image mode=RGB size=206x36>"
            ],
            "image/png": "[encoded data removed]"
          },
          "metadata": {},
          "execution_count": 48
        }
      ]
    },
    {
      "cell_type": "code",
      "source": [
        "# train model with sample noise\n",
        "scheduler = DDPMScheduler()\n",
        "model = model.to(device)\n",
        "sample = sample.to(device)\n",
        "for i, t in enumerate(tqdm(scheduler.timesteps)):\n",
        "    with torch.no_grad():\n",
        "        residual = model(sample, t).sample\n",
        "    sample = scheduler.step(residual, t, sample).prev_sample"
      ],
      "metadata": {
        "id": "rdQHuMo9y08s",
        "colab": {
          "base_uri": "https://localhost:8080/"
        },
        "outputId": "8b795816-052e-424e-cd8f-b66ea9fee59f"
      },
      "execution_count": null,
      "outputs": [
        {
          "output_type": "stream",
          "name": "stderr",
          "text": [
            "100%|██████████| 1000/1000 [00:29<00:00, 34.30it/s]\n"
          ]
        }
      ]
    },
    {
      "cell_type": "code",
      "source": [
        "# print image\n",
        "show_images(sample)"
      ],
      "metadata": {
        "id": "OdGZSDvOzr2E",
        "colab": {
          "base_uri": "https://localhost:8080/",
          "height": 53
        },
        "outputId": "ea5b0b3b-a344-4e33-c6d7-eebcd3b634b4"
      },
      "execution_count": null,
      "outputs": [
        {
          "output_type": "execute_result",
          "data": {
            "text/plain": [
              "<PIL.Image.Image image mode=RGB size=206x36>"
            ],
            "image/png": "[encoded data removed]"
          },
          "metadata": {},
          "execution_count": 50
        }
      ]
    }
  ],
  "metadata": {
    "colab": {
      "provenance": [],
      "gpuType": "T4",
      "include_colab_link": true
    },
    "kernelspec": {
      "display_name": "Python 3",
      "name": "python3"
    },
    "language_info": {
      "name": "python"
    },
    "accelerator": "GPU"
  },
  "nbformat": 4,
  "nbformat_minor": 0
}